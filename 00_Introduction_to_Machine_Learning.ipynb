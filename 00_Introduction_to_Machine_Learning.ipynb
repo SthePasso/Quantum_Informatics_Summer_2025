{
  "cells": [
    {
      "cell_type": "markdown",
      "metadata": {
        "id": "E7lzoO4DuIvK"
      },
      "source": [
        "**Machine Learning and Data Analysis**\n",
        "> **Professor: Sthefanie Passo**\n",
        "\n",
        "> **E-mail: sthefaniepasso@gmail.com**"
      ]
    },
    {
      "cell_type": "markdown",
      "metadata": {
        "id": "XvWbohotuQ2k"
      },
      "source": [
        "# **Artificial intelligence, machine learning and deep learning**\n",
        "\n",
        "![image.png](https://miro.medium.com/max/631/1*TiORvHgrJPme_lEiX3olVA.png)\n",
        "\n",
        "#### Artificial Inteligence\n",
        "\n",
        "- A concise definition\n",
        "of the field would be as follows: the effort to automate intellectual tasks normally performed\n",
        "by humans.\n",
        "\n",
        "- As such, AI is a general field that encompasses machine learning and\n",
        "deep learning, but that also includes many more approaches that don’t involve any\n",
        "learning.\n",
        "\n",
        "- Early chess programs, for instance, only involved hardcoded rules crafted by\n",
        "programmers, and didn’t qualify as machine learning.\n",
        "\n",
        "- A new approach arose to take symbolic AI’s place: machine learning\n",
        "\n",
        "![image.jpeg](https://s3.ap-southeast-1.amazonaws.com/images.deccanchronicle.com/dc-Cover-652ovhkibhg82kh6on274ihkn1-20180128034206.Medi.jpeg)\n",
        "\n",
        "#### Machine Learning\n",
        "\n",
        "- Lady Ada Lovelace was a friend and collaborator of Charles\n",
        "Babbage, the inventor of the Analytical Engine\n",
        "\n",
        "- “Computing Machinery and Intelligence,\n",
        "\n",
        "- Machine learning arises from this question: could a computer go beyond “what we\n",
        "know how to order it to perform” and learn on its own how to perform a specified task?\n",
        "\n",
        "- Could a computer surprise us? Rather than programmers crafting data-processing\n",
        "rules by hand, could a computer automatically learn these rules by looking at data?\n",
        "\n",
        "- This question opens the door to a new programming paradigm. In classical programming,\n",
        "the paradigm of symbolic AI, humans input rules (a program) and data to\n",
        "be processed according to these rules, and out come answers (see figure 1.2). With\n",
        "machine learning, humans input data as well as the answers expected from the data,\n",
        "and out come the rules. These rules can then be applied to new data to produce original\n",
        "answers.\n",
        "\n",
        "![image.png](https://oi.readthedocs.io/en/latest/_images/programming_paradigm.png)\n",
        "\n",
        "- A machine-learning system is trained rather than explicitly programmed\n",
        "\n",
        "- Although machine learning only started to flourish in the 1990s, it has quickly\n",
        "become the most popular and most successful subfield of AI, a trend driven by the\n",
        "availability of faster hardware and larger datasets\n",
        "\n",
        "- As a\n",
        "result, machine learning, and especially deep learning, exhibits comparatively little\n",
        "mathematical theory—maybe too little—and is engineering oriented. It’s a hands-on\n",
        "discipline in which ideas are proven empirically more often than theoretically.\n",
        "\n",
        "### Learnign Representation Data\n",
        "\n",
        "So, to do machine learning, we need three things:\n",
        "\n",
        "- Input data poitns: If the task is image tagging,\n",
        "they could be pictures.\n",
        "\n",
        "- Examples of expected output: In an image task, expected outputs\n",
        "could be tags such as “dog,” “cat,” and so on.\n",
        "\n",
        "- A way to measure whether the algorithm is doing a good job: The measurement is used as a feedback signal to adjust\n",
        "the way the algorithm works\n",
        "\n",
        "There\n",
        "fore,\n",
        "the central problem in machine learning and deep learning is to meaningfully\n",
        "transform data: in other words, to learn useful representations of the input data at\n",
        "hand—representations that get us closer to the expected output.\n",
        "\n",
        "Machine-learning models are all about finding appropriate repre\n",
        "sentations\n",
        "for their input data—transformations of the data that make it more amena\n",
        "ble\n",
        "to the task at hand, such as a classification task.\n"
      ]
    },
    {
      "cell_type": "markdown",
      "metadata": {
        "id": "S_5CU7cIucrw"
      },
      "source": [
        "### Example of Machine Learning"
      ]
    },
    {
      "cell_type": "markdown",
      "metadata": {
        "id": "OUC-uc7DdLZD"
      },
      "source": [
        "#### Libraries"
      ]
    },
    {
      "cell_type": "code",
      "execution_count": null,
      "metadata": {
        "id": "mMH511oidOm9"
      },
      "outputs": [],
      "source": [
        "import matplotlib.pyplot as plt\n",
        "\n",
        "import mpl_toolkits.mplot3d  # noqa: F401\n",
        "\n",
        "from sklearn import datasets\n",
        "from sklearn.decomposition import PCA\n",
        "from sklearn.tree import DecisionTreeClassifier, plot_tree\n",
        "from sklearn import metrics\n",
        "\n",
        "\n",
        "from sklearn.model_selection import train_test_split"
      ]
    },
    {
      "cell_type": "markdown",
      "metadata": {
        "id": "1HA9e-dbc5w1"
      },
      "source": [
        "#### Import Data\n",
        "\n",
        "![link text](https://s3.amazonaws.com/assets.datacamp.com/blog_assets/Machine+Learning+R/iris-machinelearning.png)"
      ]
    },
    {
      "cell_type": "code",
      "execution_count": null,
      "metadata": {
        "id": "2ITEaS7HuO98"
      },
      "outputs": [],
      "source": [
        "iris = datasets.load_iris()\n",
        "X = iris.data#[:,:2]\n",
        "y = iris.target"
      ]
    },
    {
      "cell_type": "code",
      "execution_count": null,
      "metadata": {
        "colab": {
          "base_uri": "https://localhost:8080/"
        },
        "id": "uMA52cPoRG-_",
        "outputId": "bbaeba34-f404-4712-8f21-d608a7d63b06"
      },
      "outputs": [],
      "source": []
    },
    {
      "cell_type": "code",
      "execution_count": null,
      "metadata": {
        "colab": {
          "base_uri": "https://localhost:8080/"
        },
        "id": "ADZ01c7ZQpgn",
        "outputId": "30f1ecd9-8fe0-4007-ed26-0a0b53749f4b"
      },
      "outputs": [],
      "source": []
    },
    {
      "cell_type": "code",
      "execution_count": null,
      "metadata": {
        "id": "aU2PN9_u_KOB"
      },
      "outputs": [],
      "source": []
    },
    {
      "cell_type": "code",
      "execution_count": null,
      "metadata": {
        "colab": {
          "base_uri": "https://localhost:8080/"
        },
        "id": "FLZrpwVZePqc",
        "outputId": "2e4b8b83-378d-47b6-9b40-447dd981289b"
      },
      "outputs": [],
      "source": []
    },
    {
      "cell_type": "code",
      "execution_count": null,
      "metadata": {
        "colab": {
          "base_uri": "https://localhost:8080/"
        },
        "id": "gQT6B8tTeUNz",
        "outputId": "da7e9e55-f752-49de-f46c-472daa70b406"
      },
      "outputs": [],
      "source": []
    },
    {
      "cell_type": "code",
      "execution_count": null,
      "metadata": {
        "colab": {
          "base_uri": "https://localhost:8080/"
        },
        "id": "nyJrfnZweecY",
        "outputId": "dc4fab41-ab24-45eb-b577-23d430011530"
      },
      "outputs": [],
      "source": []
    },
    {
      "cell_type": "markdown",
      "metadata": {
        "id": "Bc8oi5qxfa-6"
      },
      "source": [
        "#### Train, Test and Split\n",
        "![link text](https://algotrading101.com/learn/wp-content/uploads/2020/06/training-validation-test-data-set.png)"
      ]
    },
    {
      "cell_type": "code",
      "execution_count": null,
      "metadata": {
        "id": "TKgrj--FfCox"
      },
      "outputs": [],
      "source": []
    },
    {
      "cell_type": "code",
      "execution_count": null,
      "metadata": {
        "id": "WhGv6nHNHCai"
      },
      "outputs": [],
      "source": []
    },
    {
      "cell_type": "code",
      "execution_count": null,
      "metadata": {
        "colab": {
          "base_uri": "https://localhost:8080/"
        },
        "id": "ziNqMZgqg4t1",
        "outputId": "2f02c1f4-14e2-47d1-b9a7-8104d4cd8736"
      },
      "outputs": [],
      "source": []
    },
    {
      "cell_type": "markdown",
      "metadata": {
        "id": "qCeauN--hVqC"
      },
      "source": [
        "#### Machine Learning Model"
      ]
    },
    {
      "cell_type": "code",
      "execution_count": null,
      "metadata": {
        "colab": {
          "base_uri": "https://localhost:8080/",
          "height": 74
        },
        "id": "Fhtw8BM1hHlt",
        "outputId": "7f1714c7-82a4-4d60-f908-e58e40d1aa76"
      },
      "outputs": [],
      "source": []
    },
    {
      "cell_type": "markdown",
      "metadata": {
        "id": "l5y1-8BbhgPn"
      },
      "source": [
        "#### Metrics of Evaluation"
      ]
    },
    {
      "cell_type": "code",
      "execution_count": null,
      "metadata": {
        "colab": {
          "base_uri": "https://localhost:8080/"
        },
        "id": "4uqjyjEzhlMr",
        "outputId": "3c9391b4-a56d-4ded-8ab3-d1e5ccfdf490"
      },
      "outputs": [],
      "source": []
    },
    {
      "cell_type": "code",
      "execution_count": null,
      "metadata": {
        "colab": {
          "base_uri": "https://localhost:8080/"
        },
        "id": "GtxHZ3_JTWW0",
        "outputId": "770748ec-5d84-44f7-a0f3-8eaad4667df8"
      },
      "outputs": [],
      "source": []
    },
    {
      "cell_type": "code",
      "execution_count": null,
      "metadata": {
        "id": "h2Z9xZX1bCW_"
      },
      "outputs": [],
      "source": [
        "'''10 + 5 = 15\n",
        "5 + 10 = 15\n",
        "7 - 2 = 5\n",
        "\n",
        "\n",
        "--------------\n",
        "7 + 5 = '''"
      ]
    },
    {
      "cell_type": "markdown",
      "metadata": {
        "id": "NordIKGvYMA5"
      },
      "source": [
        "So the previus example is a single code cell would be:"
      ]
    },
    {
      "cell_type": "code",
      "execution_count": null,
      "metadata": {
        "id": "tyl4a-4eYRan"
      },
      "outputs": [],
      "source": [
        "# Import necessary libraries\n",
        "\n",
        "\n",
        "# Load the Iris dataset\n",
        "\n",
        "\n",
        "# Create a k-Nearest Neighbors classifier\n",
        "\n",
        "\n",
        "# Train the classifier\n",
        "\n",
        "\n",
        "# Make predictions on the test set\n",
        "\n",
        "\n",
        "# Evaluate accuracy\n",
        "\n"
      ]
    },
    {
      "cell_type": "markdown",
      "metadata": {
        "id": "6TDWi2LoYSYG"
      },
      "source": [
        "# Exercises:\n",
        "\n",
        "1. Understanding Data:\n",
        "Load the Iris dataset and display the first 5 rows. What are the features and target variables?\n",
        "\n",
        "2. Data Splitting:\n",
        "Split the dataset into training and testing sets using the train_test_split function.\n",
        "\n",
        "3. Model Training:\n",
        "Train a k-Nearest Neighbors classifier on the training data.\n",
        "\n",
        "4. Prediction and Evaluation:\n",
        "Make predictions on the test set and calculate the accuracy using the accuracy_score function.\n",
        "\n",
        "5. Parameter Tuning:\n",
        "Experiment with different values of the n_neighbors parameter in the k-Nearest Neighbors classifier. How does changing this parameter affect the model's accuracy?"
      ]
    },
    {
      "cell_type": "code",
      "execution_count": null,
      "metadata": {
        "id": "N1XCF4dIYmkK"
      },
      "outputs": [],
      "source": []
    }
  ],
  "metadata": {
    "colab": {
      "provenance": []
    },
    "kernelspec": {
      "display_name": "Python 3.9.6 64-bit",
      "language": "python",
      "name": "python3"
    },
    "language_info": {
      "name": "python",
      "version": "3.9.6"
    },
    "vscode": {
      "interpreter": {
        "hash": "31f2aee4e71d21fbe5cf8b01ff0e069b9275f58929596ceb00d14d90e3e16cd6"
      }
    }
  },
  "nbformat": 4,
  "nbformat_minor": 0
}
